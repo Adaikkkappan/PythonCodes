{
 "cells": [
  {
   "cell_type": "markdown",
   "id": "44c1817f",
   "metadata": {},
   "source": [
    "#### 1.Print the String \"Python\" 10 Times "
   ]
  },
  {
   "cell_type": "code",
   "execution_count": 19,
   "id": "11b40046",
   "metadata": {},
   "outputs": [
    {
     "name": "stdout",
     "output_type": "stream",
     "text": [
      "Python\n",
      "Python\n",
      "Python\n",
      "Python\n",
      "Python\n",
      "Python\n",
      "Python\n",
      "Python\n",
      "Python\n",
      "Python\n"
     ]
    }
   ],
   "source": [
    "i=1\n",
    "while i<=10:\n",
    "    print(\"Python\")\n",
    "    i=i+1"
   ]
  },
  {
   "cell_type": "markdown",
   "id": "edd80683",
   "metadata": {},
   "source": [
    "#### 2.write a program to print the number from 1 to 10"
   ]
  },
  {
   "cell_type": "code",
   "execution_count": 6,
   "id": "68d796bd",
   "metadata": {},
   "outputs": [
    {
     "name": "stdout",
     "output_type": "stream",
     "text": [
      "1\n",
      "2\n",
      "3\n",
      "4\n",
      "5\n",
      "6\n",
      "7\n",
      "8\n",
      "9\n",
      "10\n"
     ]
    }
   ],
   "source": [
    "i=1\n",
    "while i<=10:\n",
    "    print(i)\n",
    "    i=i+1"
   ]
  },
  {
   "cell_type": "markdown",
   "id": "5d61df49",
   "metadata": {},
   "source": [
    "#### 3.write a program to print the sum of 10 numbers"
   ]
  },
  {
   "cell_type": "code",
   "execution_count": 7,
   "id": "fdc635c8",
   "metadata": {},
   "outputs": [
    {
     "name": "stdout",
     "output_type": "stream",
     "text": [
      "55\n"
     ]
    }
   ],
   "source": [
    "i=1\n",
    "sum=0\n",
    "while i<=10:\n",
    "    sum=sum+i\n",
    "    i=i+1\n",
    "print(sum)"
   ]
  },
  {
   "cell_type": "markdown",
   "id": "eaf6d9f4",
   "metadata": {},
   "source": [
    "#### 4.write a program to print n numbers using user input"
   ]
  },
  {
   "cell_type": "code",
   "execution_count": 10,
   "id": "c19f18d9",
   "metadata": {},
   "outputs": [
    {
     "name": "stdout",
     "output_type": "stream",
     "text": [
      "Enter the number 5\n",
      "1\n",
      "2\n",
      "3\n",
      "4\n",
      "5\n"
     ]
    }
   ],
   "source": [
    "n=int(input(\"Enter the number \"))\n",
    "i=1\n",
    "while i<=n:\n",
    "    print(i)\n",
    "    i+=1"
   ]
  },
  {
   "cell_type": "markdown",
   "id": "ac45e581",
   "metadata": {},
   "source": [
    "#### 5.write a program to print the sum of n numbers using user input"
   ]
  },
  {
   "cell_type": "code",
   "execution_count": 2,
   "id": "48badce5",
   "metadata": {},
   "outputs": [
    {
     "name": "stdout",
     "output_type": "stream",
     "text": [
      "Enter the number 5\n",
      "15\n"
     ]
    }
   ],
   "source": [
    "n=int(input(\"Enter the number \"))\n",
    "i=0\n",
    "sum=0\n",
    "while i<=n:\n",
    "    sum=sum+i\n",
    "    i=i+1\n",
    "print(sum)"
   ]
  },
  {
   "cell_type": "markdown",
   "id": "79f7b765",
   "metadata": {},
   "source": [
    "#### 6.write a program to print the table"
   ]
  },
  {
   "cell_type": "code",
   "execution_count": 3,
   "id": "728ccc2f",
   "metadata": {},
   "outputs": [
    {
     "name": "stdout",
     "output_type": "stream",
     "text": [
      "Enter the number 5\n",
      "5 * 1 = 5\n",
      "5 * 2 = 10\n",
      "5 * 3 = 15\n",
      "5 * 4 = 20\n",
      "5 * 5 = 25\n",
      "5 * 6 = 30\n",
      "5 * 7 = 35\n",
      "5 * 8 = 40\n",
      "5 * 9 = 45\n",
      "5 * 10 = 50\n"
     ]
    }
   ],
   "source": [
    "n=int(input(\"Enter the number \"))\n",
    "for i in range(1,11):\n",
    "    print(n,'*',i,'=',n*i)"
   ]
  },
  {
   "cell_type": "markdown",
   "id": "de4b21e2",
   "metadata": {},
   "source": [
    "#### 7.write a program to print the Factorial of a number "
   ]
  },
  {
   "cell_type": "code",
   "execution_count": 4,
   "id": "a9f7155a",
   "metadata": {},
   "outputs": [
    {
     "name": "stdout",
     "output_type": "stream",
     "text": [
      "Enter the number5\n",
      "120\n"
     ]
    }
   ],
   "source": [
    "n=int(input('Enter the number'))\n",
    "f=1\n",
    "while n>0:\n",
    "    f=f*n\n",
    "    n=n-1\n",
    "print(f)"
   ]
  },
  {
   "cell_type": "markdown",
   "id": "41b760fe",
   "metadata": {},
   "source": [
    "#### 8.write a program to print the even numbers from 2 to 100 "
   ]
  },
  {
   "cell_type": "code",
   "execution_count": 5,
   "id": "9baecdd1",
   "metadata": {},
   "outputs": [
    {
     "name": "stdout",
     "output_type": "stream",
     "text": [
      "2\n",
      "4\n",
      "6\n",
      "8\n",
      "10\n",
      "12\n",
      "14\n",
      "16\n",
      "18\n",
      "20\n",
      "22\n",
      "24\n",
      "26\n",
      "28\n",
      "30\n",
      "32\n",
      "34\n",
      "36\n",
      "38\n",
      "40\n",
      "42\n",
      "44\n",
      "46\n",
      "48\n",
      "50\n",
      "52\n",
      "54\n",
      "56\n",
      "58\n",
      "60\n",
      "62\n",
      "64\n",
      "66\n",
      "68\n",
      "70\n",
      "72\n",
      "74\n",
      "76\n",
      "78\n",
      "80\n",
      "82\n",
      "84\n",
      "86\n",
      "88\n",
      "90\n",
      "92\n",
      "94\n",
      "96\n",
      "98\n",
      "100\n"
     ]
    }
   ],
   "source": [
    "i=1\n",
    "while i<=100:\n",
    "    if i%2==0:\n",
    "        print(i)\n",
    "    i+=1"
   ]
  },
  {
   "cell_type": "markdown",
   "id": "9d0470fe",
   "metadata": {},
   "source": [
    "#### 9.write a program to print the odd numbers from 1 to 100 "
   ]
  },
  {
   "cell_type": "code",
   "execution_count": 6,
   "id": "02269702",
   "metadata": {},
   "outputs": [
    {
     "name": "stdout",
     "output_type": "stream",
     "text": [
      "1\n",
      "3\n",
      "5\n",
      "7\n",
      "9\n",
      "11\n",
      "13\n",
      "15\n",
      "17\n",
      "19\n",
      "21\n",
      "23\n",
      "25\n",
      "27\n",
      "29\n",
      "31\n",
      "33\n",
      "35\n",
      "37\n",
      "39\n",
      "41\n",
      "43\n",
      "45\n",
      "47\n",
      "49\n",
      "51\n",
      "53\n",
      "55\n",
      "57\n",
      "59\n",
      "61\n",
      "63\n",
      "65\n",
      "67\n",
      "69\n",
      "71\n",
      "73\n",
      "75\n",
      "77\n",
      "79\n",
      "81\n",
      "83\n",
      "85\n",
      "87\n",
      "89\n",
      "91\n",
      "93\n",
      "95\n",
      "97\n",
      "99\n"
     ]
    }
   ],
   "source": [
    "i=1\n",
    "while i<100:\n",
    "    print(i)\n",
    "    i+=2"
   ]
  },
  {
   "cell_type": "markdown",
   "id": "26255b54",
   "metadata": {},
   "source": [
    "#### 10.write a program to check whether a given number is palindrome or not"
   ]
  },
  {
   "cell_type": "code",
   "execution_count": 36,
   "id": "c9ab83bf",
   "metadata": {},
   "outputs": [
    {
     "name": "stdout",
     "output_type": "stream",
     "text": [
      "12321\n",
      "Number is a palindrome\n"
     ]
    }
   ],
   "source": [
    "n=int(input())\n",
    "temp=n\n",
    "m=str(n)\n",
    "l=-1\n",
    "str2=''\n",
    "while l>=-len(m):\n",
    "        str2=str2+m[l]\n",
    "        l=l-1\n",
    "str2=int(str2)\n",
    "if str2==temp:\n",
    "    print(\"Number is a palindrome\")\n",
    "else:\n",
    "    print(\"Number is not a palindrome\")   "
   ]
  },
  {
   "cell_type": "markdown",
   "id": "9df633cf",
   "metadata": {},
   "source": [
    "#### 11.write a program to print the factors of a number"
   ]
  },
  {
   "cell_type": "code",
   "execution_count": 37,
   "id": "9f5dab9c",
   "metadata": {},
   "outputs": [
    {
     "name": "stdout",
     "output_type": "stream",
     "text": [
      "Enter a number to find the factors of a number: 10\n",
      "1\n",
      "2\n",
      "5\n",
      "10\n"
     ]
    }
   ],
   "source": [
    "n=int(input('Enter a number to find the factors of a number: '))\n",
    "for i in range(1,n+1):\n",
    "    if n%i==0:\n",
    "        print(i)"
   ]
  },
  {
   "cell_type": "markdown",
   "id": "3d2b0d01",
   "metadata": {},
   "source": [
    "### 12.write a program to reverse a number"
   ]
  },
  {
   "cell_type": "code",
   "execution_count": 38,
   "id": "42aa2c04",
   "metadata": {},
   "outputs": [
    {
     "name": "stdout",
     "output_type": "stream",
     "text": [
      "12345\n",
      "54321\n"
     ]
    }
   ],
   "source": [
    "n=int(input())\n",
    "temp=n\n",
    "m=str(n)\n",
    "l=-1\n",
    "str2=''\n",
    "while l>=-len(m):\n",
    "        str2=str2+m[l]\n",
    "        l=l-1\n",
    "str2=int(str2)\n",
    "print(str2)"
   ]
  },
  {
   "cell_type": "markdown",
   "id": "e9faba46",
   "metadata": {},
   "source": [
    "### 12.write a program to reverse a number in another way"
   ]
  },
  {
   "cell_type": "code",
   "execution_count": 42,
   "id": "637c39d2",
   "metadata": {},
   "outputs": [
    {
     "name": "stdout",
     "output_type": "stream",
     "text": [
      "1235\n",
      "5321\n"
     ]
    }
   ],
   "source": [
    "n=int(input())\n",
    "temp=n\n",
    "rev=0\n",
    "while n!=0:\n",
    "    digit=n%10\n",
    "    rev=rev*10+digit\n",
    "    n=n//10\n",
    "print(str(rev))"
   ]
  },
  {
   "cell_type": "markdown",
   "id": "39c1645d",
   "metadata": {},
   "source": [
    "#### 13.write a program to print the sum of reverse of a number"
   ]
  },
  {
   "cell_type": "code",
   "execution_count": 2,
   "id": "658ec2a3",
   "metadata": {},
   "outputs": [
    {
     "name": "stdout",
     "output_type": "stream",
     "text": [
      "54321\n",
      "15\n"
     ]
    }
   ],
   "source": [
    "n=int(input())\n",
    "temp=n\n",
    "rev=0\n",
    "while n!=0:\n",
    "    digit=n%10\n",
    "    rev=rev*10+digit\n",
    "    n=n//10\n",
    "rev=str(rev)\n",
    "sum=0\n",
    "add=0\n",
    "for i in rev:\n",
    "    sum=int(i)\n",
    "    add+=sum\n",
    "print(add)"
   ]
  },
  {
   "cell_type": "markdown",
   "id": "581c8e4e",
   "metadata": {},
   "source": [
    "#### 13.write a program to check the given number is prime or not"
   ]
  },
  {
   "cell_type": "code",
   "execution_count": 10,
   "id": "650c1ab9",
   "metadata": {},
   "outputs": [
    {
     "name": "stdout",
     "output_type": "stream",
     "text": [
      "Enter a number: 17\n",
      "The Entered number is a prime number\n"
     ]
    }
   ],
   "source": [
    "n=int(input('Enter a number: '))\n",
    "if n>1:\n",
    "        for i in range(2,int(n/2)+1):\n",
    "            if n%i==0:\n",
    "                print(\"The Entered number is not a prime number\")\n",
    "                break\n",
    "        else:\n",
    "            print(\"The Entered number is a prime number\")\n",
    "\n",
    "else:\n",
    "    print(\"The Entered number is not a prime number\")"
   ]
  },
  {
   "cell_type": "markdown",
   "id": "9911e109",
   "metadata": {},
   "source": [
    "#### 14.write a program to print the prime numbers from 1 to 100"
   ]
  },
  {
   "cell_type": "code",
   "execution_count": 87,
   "id": "18967e32",
   "metadata": {},
   "outputs": [
    {
     "name": "stdout",
     "output_type": "stream",
     "text": [
      "2\n",
      "3\n",
      "5\n",
      "7\n",
      "11\n",
      "13\n",
      "17\n",
      "19\n",
      "23\n",
      "29\n",
      "31\n",
      "37\n",
      "41\n",
      "43\n",
      "47\n",
      "53\n",
      "59\n",
      "61\n",
      "67\n",
      "71\n",
      "73\n",
      "79\n",
      "83\n",
      "89\n",
      "97\n"
     ]
    }
   ],
   "source": [
    "for j in range(1,101):\n",
    "    count=0\n",
    "    t=j//2\n",
    "    for i in range(2,t+1):\n",
    "        if j%i==0:\n",
    "            count=count+1\n",
    "            break\n",
    "    if count==0 and j>1:\n",
    "        print(j)"
   ]
  },
  {
   "cell_type": "markdown",
   "id": "7c510520",
   "metadata": {},
   "source": [
    "#### 15.write a program to find the factors of a number"
   ]
  },
  {
   "cell_type": "code",
   "execution_count": 2,
   "id": "15c6acfe",
   "metadata": {},
   "outputs": [
    {
     "name": "stdout",
     "output_type": "stream",
     "text": [
      "Enter the number to find the factors of a number: 10\n",
      "1\n",
      "2\n",
      "5\n",
      "10\n"
     ]
    }
   ],
   "source": [
    "n=int(input(\"Enter the number to find the factors of a number: \"))\n",
    "for i in range(1,n+1):\n",
    "    if n%i==0:\n",
    "        print(i)"
   ]
  },
  {
   "cell_type": "markdown",
   "id": "8cdaee4e",
   "metadata": {},
   "source": [
    "#### 16.write a program to check whether a given number is prime or not"
   ]
  },
  {
   "cell_type": "code",
   "execution_count": 24,
   "id": "3c95ba63",
   "metadata": {
    "scrolled": true
   },
   "outputs": [
    {
     "name": "stdout",
     "output_type": "stream",
     "text": [
      "Enter a number: 5\n",
      "The Entered number is a prime number\n"
     ]
    }
   ],
   "source": [
    "n=int(input('Enter a number: '))\n",
    "if n>1:\n",
    "        for i in range(2,n):\n",
    "            if n%i==0:\n",
    "                print(\"The Entered number is not a prime number\")\n",
    "                break\n",
    "        else:\n",
    "            print(\"The Entered number is a prime number\")\n",
    "else:\n",
    "    if n==0 or n==1:\n",
    "        print(\"The Entered number is not a prime number\")\n",
    "    else:\n",
    "        print(\"Please enter the positive number\")"
   ]
  },
  {
   "cell_type": "markdown",
   "id": "a1e72474",
   "metadata": {},
   "source": [
    "#### 17.write a program to print prime numbers from 1 to 100"
   ]
  },
  {
   "cell_type": "code",
   "execution_count": 26,
   "id": "c4134787",
   "metadata": {},
   "outputs": [
    {
     "name": "stdout",
     "output_type": "stream",
     "text": [
      "2\n",
      "3\n",
      "5\n",
      "7\n",
      "11\n",
      "13\n",
      "17\n",
      "19\n",
      "23\n",
      "29\n",
      "31\n",
      "37\n",
      "41\n",
      "43\n",
      "47\n",
      "53\n",
      "59\n",
      "61\n",
      "67\n",
      "71\n",
      "73\n",
      "79\n",
      "83\n",
      "89\n",
      "97\n"
     ]
    }
   ],
   "source": [
    "#write a program to print prime numbers from 1 to 100\n",
    "for i in range(1,101):\n",
    "    if i>1:\n",
    "        for j in range(2,i):\n",
    "            if i%j==0:\n",
    "                break\n",
    "        else:\n",
    "            print(i)\n"
   ]
  },
  {
   "cell_type": "markdown",
   "id": "bdfcbc54",
   "metadata": {},
   "source": [
    "#### 18.write a program to print cube of all the numbers from 1 to given number"
   ]
  },
  {
   "cell_type": "code",
   "execution_count": 33,
   "id": "32cbd064",
   "metadata": {},
   "outputs": [
    {
     "name": "stdout",
     "output_type": "stream",
     "text": [
      "Enter a number: 10\n",
      "The cube of a number 1 is 1\n",
      "The cube of a number 2 is 8\n",
      "The cube of a number 3 is 27\n",
      "The cube of a number 4 is 64\n",
      "The cube of a number 5 is 125\n",
      "The cube of a number 6 is 216\n",
      "The cube of a number 7 is 343\n",
      "The cube of a number 8 is 512\n",
      "The cube of a number 9 is 729\n",
      "The cube of a number 10 is 1000\n"
     ]
    }
   ],
   "source": [
    "n=int(input(\"Enter a number: \"))\n",
    "for x in range(1,n+1):\n",
    "    print(\"The cube of a number\",x,\"is\",x**3)"
   ]
  },
  {
   "cell_type": "markdown",
   "id": "e036f990",
   "metadata": {},
   "source": [
    "#### 19. write a program to count the total number of digits in a number"
   ]
  },
  {
   "cell_type": "code",
   "execution_count": 20,
   "id": "46d8983f",
   "metadata": {},
   "outputs": [
    {
     "name": "stdout",
     "output_type": "stream",
     "text": [
      "Enter a number: 12345\n",
      "The total number of digits are  5\n"
     ]
    }
   ],
   "source": [
    "n=int(input(\"Enter a number: \"))\n",
    "count=0\n",
    "while n!=0:\n",
    "    n//=10\n",
    "    count+=1\n",
    "print(\"The total number of digits are \",count)"
   ]
  },
  {
   "cell_type": "markdown",
   "id": "70678000",
   "metadata": {},
   "source": [
    "#### 20.write a program to print the factorial of a number"
   ]
  },
  {
   "cell_type": "code",
   "execution_count": 7,
   "id": "d69d3d97",
   "metadata": {},
   "outputs": [
    {
     "name": "stdout",
     "output_type": "stream",
     "text": [
      "Enter the number: 5\n",
      "120\n"
     ]
    }
   ],
   "source": [
    "#Fibonacci series\n",
    "n=int(input('Enter the number: '))\n",
    "f=1\n",
    "while n>0:\n",
    "    f=f*n\n",
    "    n=n-1\n",
    "print(f)"
   ]
  },
  {
   "cell_type": "markdown",
   "id": "7b70a074",
   "metadata": {},
   "source": [
    "#### 21.write a program to print the fibonacci series"
   ]
  },
  {
   "cell_type": "code",
   "execution_count": 10,
   "id": "2ffc2880",
   "metadata": {},
   "outputs": [
    {
     "name": "stdout",
     "output_type": "stream",
     "text": [
      "Enter the number: 5\n",
      "0\n",
      "1\n",
      "1\n",
      "2\n",
      "3\n",
      "5\n"
     ]
    }
   ],
   "source": [
    "#Fibonacci sequence\n",
    "t=int(input('Enter the number: '))\n",
    "n1,n2=0,1\n",
    "count=0\n",
    "if t<=0:\n",
    "    print(\"Please enter a positive value\")\n",
    "elif t==1:\n",
    "    print(n2)\n",
    "else:\n",
    "    while count<=t:\n",
    "       print(n1)\n",
    "       n=n1+n2\n",
    "       n1=n2\n",
    "       n2=n\n",
    "       count+=1"
   ]
  },
  {
   "cell_type": "markdown",
   "id": "7160ae21",
   "metadata": {},
   "source": [
    "#### 22.write a program whether a given number is amstrong or not"
   ]
  },
  {
   "cell_type": "code",
   "execution_count": 19,
   "id": "ef40ad97",
   "metadata": {},
   "outputs": [
    {
     "name": "stdout",
     "output_type": "stream",
     "text": [
      "Enter the number: 153\n",
      "The Entered number 153 is an amstrong\n"
     ]
    }
   ],
   "source": [
    "n=int(input(\"Enter the number: \"))\n",
    "count=len(str(n))\n",
    "sum=0\n",
    "temp=n\n",
    "while temp>0:\n",
    "    digit=temp%10\n",
    "    sum+=digit**count\n",
    "    temp=temp//10\n",
    "if n==sum:\n",
    "    print(\"The Entered number\",n,\"is an amstrong\")\n",
    "else:\n",
    "    print(\"The Entered number\",n,\"is not an amstrong\")"
   ]
  },
  {
   "cell_type": "markdown",
   "id": "7530e01a",
   "metadata": {},
   "source": [
    "#### 23.write a program whether a given number is strong or not"
   ]
  },
  {
   "cell_type": "code",
   "execution_count": 44,
   "id": "9e5f48cf",
   "metadata": {
    "scrolled": true
   },
   "outputs": [
    {
     "name": "stdout",
     "output_type": "stream",
     "text": [
      "Enter a number: 135\n",
      "The Entered number 135 is not a strong number\n"
     ]
    }
   ],
   "source": [
    "n=int(input(\"Enter a number: \"))\n",
    "temp=n\n",
    "s=0\n",
    "while n>0:\n",
    "    fact=1\n",
    "    digit=n%10\n",
    "    for i in range(1,digit+1):\n",
    "        fact=fact*i\n",
    "    s=s+fact\n",
    "    n=n//10\n",
    "if temp==s:\n",
    "    print(\"The Entered number\",temp,\"is a strong number\")\n",
    "else:\n",
    "    print(\"The Entered number\",temp,\"is not a strong number\")"
   ]
  },
  {
   "cell_type": "markdown",
   "id": "f907da01",
   "metadata": {},
   "source": [
    "#### 24. write a program whether a given number is perfect or not"
   ]
  },
  {
   "cell_type": "markdown",
   "id": "a94e36c3",
   "metadata": {},
   "source": [
    "#### 25.write a program to print the following number pattern using a loop"
   ]
  },
  {
   "cell_type": "code",
   "execution_count": null,
   "id": "8c63d699",
   "metadata": {},
   "outputs": [],
   "source": [
    "'''\n",
    "a) 1            b) 1               c)  54321  (cone)  d) 12345       e) 54321\n",
    "   12              22                  5432              1234            4321\n",
    "   123             333                 543               123              321\n",
    "   1234             4444               54                12                21\n",
    "   12345            55555              5                 1                  1        \n",
    "'''  "
   ]
  },
  {
   "cell_type": "code",
   "execution_count": 36,
   "id": "68cd8d6d",
   "metadata": {
    "scrolled": true
   },
   "outputs": [
    {
     "name": "stdout",
     "output_type": "stream",
     "text": [
      "\n",
      "1\n",
      "12\n",
      "123\n",
      "1234\n",
      "12345\n"
     ]
    }
   ],
   "source": [
    "for i in range(1,7):\n",
    "    for j in range(1,i):\n",
    "            print(j,end=\"\")\n",
    "    print()"
   ]
  },
  {
   "cell_type": "code",
   "execution_count": 45,
   "id": "280ff05a",
   "metadata": {},
   "outputs": [
    {
     "name": "stdout",
     "output_type": "stream",
     "text": [
      "\n",
      "1\n",
      "22\n",
      "333\n",
      "4444\n",
      "55555\n"
     ]
    }
   ],
   "source": [
    "for i in range(6):\n",
    "    for j in range(i):\n",
    "            if i==4 or i==5:\n",
    "                print(i,end=\"\")\n",
    "            else:\n",
    "                print(i,end=\"\")\n",
    "    print()"
   ]
  },
  {
   "cell_type": "code",
   "execution_count": 123,
   "id": "99a40ce3",
   "metadata": {},
   "outputs": [
    {
     "name": "stdout",
     "output_type": "stream",
     "text": [
      "54321\n",
      "5432\n",
      "543\n",
      "54\n",
      "5\n"
     ]
    }
   ],
   "source": [
    "i=5\n",
    "str1=''\n",
    "while i>0:\n",
    "    str1=str1+str(i)\n",
    "    i=i-1\n",
    "int1 = int(str1)\n",
    "while int1!=0:\n",
    "    print(int1)\n",
    "    int1=int1//10"
   ]
  },
  {
   "cell_type": "code",
   "execution_count": 132,
   "id": "12b7b099",
   "metadata": {},
   "outputs": [
    {
     "name": "stdout",
     "output_type": "stream",
     "text": [
      "12345\n",
      "1234\n",
      "123\n",
      "12\n",
      "1\n"
     ]
    }
   ],
   "source": [
    "str1=''\n",
    "for i in range(1,6):\n",
    "    str1=str1+str(i)\n",
    "int1=int(str1)\n",
    "while int1!=0:\n",
    "    print(int1)\n",
    "    int1=int1//10"
   ]
  },
  {
   "cell_type": "code",
   "execution_count": 104,
   "id": "4510727c",
   "metadata": {},
   "outputs": [
    {
     "name": "stdout",
     "output_type": "stream",
     "text": [
      "54321\n",
      "4321\n",
      "321\n",
      "21\n",
      "1\n"
     ]
    }
   ],
   "source": [
    "j=5 \n",
    "while j>0:\n",
    "    i=j\n",
    "    while i>0:\n",
    "        print(i,end=\"\")\n",
    "        i=i-1\n",
    "    print()\n",
    "    j=j-1"
   ]
  },
  {
   "cell_type": "markdown",
   "id": "7c9a0b0a",
   "metadata": {},
   "source": [
    "#### 26.write a program to print the following number pattern using a loop "
   ]
  },
  {
   "cell_type": "code",
   "execution_count": null,
   "id": "48a14b49",
   "metadata": {},
   "outputs": [],
   "source": [
    "'''\n",
    " \n",
    " a) *           b) *****   c) *****  d) *****     e)    *\n",
    "    **             *****      ****       ****          **\n",
    "    ***            *****      ***         ***         *** \n",
    "    ****           *****      **           **        ****\n",
    "    *****          *****      *             *       *****\n",
    "   \n",
    "   '''"
   ]
  },
  {
   "cell_type": "code",
   "execution_count": 3,
   "id": "9639ef7d",
   "metadata": {},
   "outputs": [
    {
     "name": "stdout",
     "output_type": "stream",
     "text": [
      "\n",
      "\n",
      "*\n",
      "**\n",
      "***\n",
      "****\n",
      "*****\n"
     ]
    }
   ],
   "source": [
    "for i in range(7):\n",
    "    for j in range(1,i):\n",
    "        print(\"*\",end=\"\")\n",
    "    print()"
   ]
  },
  {
   "cell_type": "code",
   "execution_count": 9,
   "id": "10becb1e",
   "metadata": {},
   "outputs": [
    {
     "name": "stdout",
     "output_type": "stream",
     "text": [
      "*****\n",
      "*****\n",
      "*****\n",
      "*****\n",
      "*****\n"
     ]
    }
   ],
   "source": [
    "for i in range(5):\n",
    "    for i in range(5):\n",
    "        print(\"*\",end=\"\")\n",
    "    print()"
   ]
  },
  {
   "cell_type": "code",
   "execution_count": 49,
   "id": "77d146fb",
   "metadata": {},
   "outputs": [
    {
     "name": "stdout",
     "output_type": "stream",
     "text": [
      "*****\n",
      "****\n",
      "***\n",
      "**\n",
      "*\n"
     ]
    }
   ],
   "source": [
    "i=5\n",
    "j=0\n",
    "while 0 < i:\n",
    "    while j < i:\n",
    "        print(\"*\",end=\"\")\n",
    "        j=j+1\n",
    "    print()\n",
    "    i=i-1\n",
    "    j=0"
   ]
  },
  {
   "cell_type": "code",
   "execution_count": 94,
   "id": "f0b8500f",
   "metadata": {},
   "outputs": [
    {
     "name": "stdout",
     "output_type": "stream",
     "text": [
      "*****\n",
      " ****\n",
      "  ***\n",
      "   **\n",
      "    *\n"
     ]
    }
   ],
   "source": [
    "i=5\n",
    "j=0\n",
    "str1=\"\"\n",
    "while 0 < i:\n",
    "    while j < i:\n",
    "        str1=str1+\"*\"\n",
    "        j=j+1\n",
    "    print(str1.rjust(5,\" \"))\n",
    "    i=i-1\n",
    "    j=0\n",
    "    str1=\"\""
   ]
  },
  {
   "cell_type": "code",
   "execution_count": 101,
   "id": "abdc85af",
   "metadata": {},
   "outputs": [
    {
     "name": "stdout",
     "output_type": "stream",
     "text": [
      "     \n",
      "    *\n",
      "   **\n",
      "  ***\n",
      " ****\n",
      "*****\n"
     ]
    }
   ],
   "source": [
    "str1=\"\"\n",
    "for i in range(0,6):\n",
    "    for j in range(0,i):\n",
    "        str1=str1+\"*\"\n",
    "    print(str1.rjust(5,\" \"))\n",
    "    str1=\"\""
   ]
  },
  {
   "cell_type": "markdown",
   "id": "82ed1311",
   "metadata": {},
   "source": [
    "####  27.write a program to print the following number pattern using a loop "
   ]
  },
  {
   "cell_type": "code",
   "execution_count": null,
   "id": "d07459cf",
   "metadata": {},
   "outputs": [],
   "source": [
    "'''\n",
    "a)      A              b) A             c) ABCDE            d)   EEEEE\n",
    "        AB                BB               ABCD                  DDDD\n",
    "        ABC               CCC              ABC                   CCC\n",
    "        ABCD              DDDD             AB                    BB\n",
    "        ABCDE             EEEEE            A                     A\n",
    "'''"
   ]
  },
  {
   "cell_type": "code",
   "execution_count": 45,
   "id": "95b1b4f6",
   "metadata": {},
   "outputs": [
    {
     "name": "stdout",
     "output_type": "stream",
     "text": [
      "A\n",
      "AB\n",
      "ABC\n",
      "ABCD\n",
      "ABCDE\n"
     ]
    }
   ],
   "source": [
    "str1='ABCDE'\n",
    "i=0\n",
    "j=0\n",
    "while i<len(str1):\n",
    "    while j<len(str1):\n",
    "        print(str1[i:j+1])\n",
    "        j=j+1\n",
    "    i=i+1"
   ]
  },
  {
   "cell_type": "code",
   "execution_count": 28,
   "id": "ff663b34",
   "metadata": {},
   "outputs": [
    {
     "name": "stdout",
     "output_type": "stream",
     "text": [
      "A\n",
      "BB\n",
      "CCC\n",
      "DDDD\n",
      "EEEEE\n"
     ]
    }
   ],
   "source": [
    "str1='ABCDE'\n",
    "for x in range(len(str1)):\n",
    "     for y in range(0,x+1):\n",
    "            print(str1[x],end=\"\")\n",
    "     print() "
   ]
  },
  {
   "cell_type": "code",
   "execution_count": 67,
   "id": "50fa88e4",
   "metadata": {},
   "outputs": [
    {
     "name": "stdout",
     "output_type": "stream",
     "text": [
      "EEEEE"
     ]
    }
   ],
   "source": [
    "str1='ABCDE'\n",
    "i=5\n",
    "while i>=len(str1):\n",
    "    for j in range(i):\n",
    "        print(str1[4],end=\"\")\n",
    "    i=i-1"
   ]
  },
  {
   "cell_type": "code",
   "execution_count": null,
   "id": "00fd0f71",
   "metadata": {},
   "outputs": [],
   "source": []
  }
 ],
 "metadata": {
  "kernelspec": {
   "display_name": "Python 3 (ipykernel)",
   "language": "python",
   "name": "python3"
  },
  "language_info": {
   "codemirror_mode": {
    "name": "ipython",
    "version": 3
   },
   "file_extension": ".py",
   "mimetype": "text/x-python",
   "name": "python",
   "nbconvert_exporter": "python",
   "pygments_lexer": "ipython3",
   "version": "3.9.12"
  }
 },
 "nbformat": 4,
 "nbformat_minor": 5
}
