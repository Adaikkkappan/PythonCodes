{
 "cells": [
  {
   "cell_type": "markdown",
   "id": "44c1817f",
   "metadata": {},
   "source": [
    "#### 1.Print the String \"Python\" 10 Times "
   ]
  },
  {
   "cell_type": "code",
   "execution_count": null,
   "id": "11b40046",
   "metadata": {},
   "outputs": [],
   "source": [
    "i=1\n",
    "while i<=10:\n",
    "    print(\"Python\")\n",
    "    i=i+1"
   ]
  },
  {
   "cell_type": "markdown",
   "id": "edd80683",
   "metadata": {},
   "source": [
    "#### 2.write a program to print the number from 1 to 10"
   ]
  },
  {
   "cell_type": "code",
   "execution_count": null,
   "id": "68d796bd",
   "metadata": {},
   "outputs": [],
   "source": [
    "i=1\n",
    "while i<=10:\n",
    "    print(i)\n",
    "    i=i+1"
   ]
  },
  {
   "cell_type": "markdown",
   "id": "5d61df49",
   "metadata": {},
   "source": [
    "#### 3.write a program to print the sum of 10 numbers"
   ]
  },
  {
   "cell_type": "code",
   "execution_count": null,
   "id": "fdc635c8",
   "metadata": {},
   "outputs": [],
   "source": [
    "i=1\n",
    "sum=0\n",
    "while i<=10:\n",
    "    sum=sum+i\n",
    "    i=i+1\n",
    "print(sum)"
   ]
  },
  {
   "cell_type": "markdown",
   "id": "eaf6d9f4",
   "metadata": {},
   "source": [
    "#### 4.write a program to print n numbers using user input"
   ]
  },
  {
   "cell_type": "code",
   "execution_count": null,
   "id": "c19f18d9",
   "metadata": {},
   "outputs": [],
   "source": [
    "n=int(input(\"Enter the number \"))\n",
    "i=1\n",
    "while i<=n:\n",
    "    print(i)\n",
    "    i+=1"
   ]
  },
  {
   "cell_type": "markdown",
   "id": "ac45e581",
   "metadata": {},
   "source": [
    "#### 5.write a program to print the sum of n numbers using user input"
   ]
  },
  {
   "cell_type": "code",
   "execution_count": null,
   "id": "48badce5",
   "metadata": {},
   "outputs": [],
   "source": [
    "n=int(input(\"Enter the number \"))\n",
    "i=0\n",
    "sum=0\n",
    "while i<=n:\n",
    "    sum=sum+i\n",
    "    i=i+1\n",
    "print(sum)"
   ]
  },
  {
   "cell_type": "markdown",
   "id": "79f7b765",
   "metadata": {},
   "source": [
    "#### 6.write a program to print the table"
   ]
  },
  {
   "cell_type": "code",
   "execution_count": null,
   "id": "728ccc2f",
   "metadata": {},
   "outputs": [],
   "source": [
    "n=int(input(\"Enter the number \"))\n",
    "for i in range(1,11):\n",
    "    print(n,'*',i,'=',n*i)"
   ]
  },
  {
   "cell_type": "markdown",
   "id": "de4b21e2",
   "metadata": {},
   "source": [
    "#### 7.write a program to print the Factorial of a number "
   ]
  },
  {
   "cell_type": "code",
   "execution_count": null,
   "id": "a9f7155a",
   "metadata": {},
   "outputs": [],
   "source": [
    "n=int(input('Enter the number'))\n",
    "f=1\n",
    "while n>0:\n",
    "    f=f*n\n",
    "    n=n-1\n",
    "print(f)"
   ]
  },
  {
   "cell_type": "markdown",
   "id": "41b760fe",
   "metadata": {},
   "source": [
    "#### 8.write a program to print the even numbers from 2 to 100 "
   ]
  },
  {
   "cell_type": "code",
   "execution_count": null,
   "id": "9baecdd1",
   "metadata": {},
   "outputs": [],
   "source": [
    "i=1\n",
    "while i<=100:\n",
    "    if i%2==0:\n",
    "        print(i)\n",
    "    i+=1"
   ]
  },
  {
   "cell_type": "markdown",
   "id": "9d0470fe",
   "metadata": {},
   "source": [
    "#### 9.write a program to print the odd numbers from 1 to 100 "
   ]
  },
  {
   "cell_type": "code",
   "execution_count": null,
   "id": "02269702",
   "metadata": {},
   "outputs": [],
   "source": [
    "i=1\n",
    "while i<100:\n",
    "    print(i)\n",
    "    i+=2"
   ]
  },
  {
   "cell_type": "markdown",
   "id": "26255b54",
   "metadata": {},
   "source": [
    "#### 10.write a program to check whether a given number is palindrome or not"
   ]
  },
  {
   "cell_type": "code",
   "execution_count": null,
   "id": "c9ab83bf",
   "metadata": {},
   "outputs": [],
   "source": [
    "n=int(input())\n",
    "temp=n\n",
    "m=str(n)\n",
    "l=-1\n",
    "str2=''\n",
    "while l>=-len(m):\n",
    "        str2=str2+m[l]\n",
    "        l=l-1\n",
    "str2=int(str2)\n",
    "if str2==temp:\n",
    "    print(\"Number is a palindrome\")\n",
    "else:\n",
    "    print(\"Number is not a palindrome\")   "
   ]
  },
  {
   "cell_type": "markdown",
   "id": "9df633cf",
   "metadata": {},
   "source": [
    "#### 11.write a program to print the factors of a number"
   ]
  },
  {
   "cell_type": "code",
   "execution_count": null,
   "id": "9f5dab9c",
   "metadata": {},
   "outputs": [],
   "source": [
    "n=int(input('Enter a number to find the factors of a number: '))\n",
    "for i in range(1,n+1):\n",
    "    if n%i==0:\n",
    "        print(i)"
   ]
  },
  {
   "cell_type": "markdown",
   "id": "3d2b0d01",
   "metadata": {},
   "source": [
    "### 12.write a program to reverse a number"
   ]
  },
  {
   "cell_type": "code",
   "execution_count": null,
   "id": "42aa2c04",
   "metadata": {},
   "outputs": [],
   "source": [
    "n=int(input())\n",
    "temp=n\n",
    "m=str(n)\n",
    "l=-1\n",
    "str2=''\n",
    "while l>=-len(m):\n",
    "        str2=str2+m[l]\n",
    "        l=l-1\n",
    "str2=int(str2)\n",
    "print(str2)"
   ]
  },
  {
   "cell_type": "markdown",
   "id": "e9faba46",
   "metadata": {},
   "source": [
    "### 12.write a program to reverse a number in another way"
   ]
  },
  {
   "cell_type": "code",
   "execution_count": null,
   "id": "637c39d2",
   "metadata": {},
   "outputs": [],
   "source": [
    "n=int(input())\n",
    "temp=n\n",
    "rev=0\n",
    "while n!=0:\n",
    "    digit=n%10\n",
    "    rev=rev*10+digit\n",
    "    n=n//10\n",
    "print(str(rev))"
   ]
  },
  {
   "cell_type": "markdown",
   "id": "39c1645d",
   "metadata": {},
   "source": [
    "#### 13.write a program to print the sum of reverse of a number"
   ]
  },
  {
   "cell_type": "code",
   "execution_count": null,
   "id": "658ec2a3",
   "metadata": {},
   "outputs": [],
   "source": [
    "n=int(input())\n",
    "temp=n\n",
    "rev=0\n",
    "while n!=0:\n",
    "    digit=n%10\n",
    "    rev=rev*10+digit\n",
    "    n=n//10\n",
    "rev=str(rev)\n",
    "sum=0\n",
    "add=0\n",
    "for i in rev:\n",
    "    sum=int(i)\n",
    "    add+=sum\n",
    "print(add)"
   ]
  },
  {
   "cell_type": "markdown",
   "id": "581c8e4e",
   "metadata": {},
   "source": [
    "#### 13.write a program to check the given number is prime or not"
   ]
  },
  {
   "cell_type": "code",
   "execution_count": null,
   "id": "650c1ab9",
   "metadata": {},
   "outputs": [],
   "source": [
    "n=int(input('Enter a number: '))\n",
    "if n>1:\n",
    "        for i in range(2,int(n/2)+1):\n",
    "            if n%i==0:\n",
    "                print(\"The Entered number is not a prime number\")\n",
    "                break\n",
    "        else:\n",
    "            print(\"The Entered number is a prime number\")\n",
    "\n",
    "else:\n",
    "    print(\"The Entered number is not a prime number\")"
   ]
  },
  {
   "cell_type": "markdown",
   "id": "9911e109",
   "metadata": {},
   "source": [
    "#### 14.write a program to print the prime numbers from 1 to 100"
   ]
  },
  {
   "cell_type": "code",
   "execution_count": null,
   "id": "18967e32",
   "metadata": {},
   "outputs": [],
   "source": [
    "for j in range(1,101):\n",
    "    count=0\n",
    "    t=j//2\n",
    "    for i in range(2,t+1):\n",
    "        if j%i==0:\n",
    "            count=count+1\n",
    "            break\n",
    "    if count==0 and j>1:\n",
    "        print(j)"
   ]
  },
  {
   "cell_type": "markdown",
   "id": "7c510520",
   "metadata": {},
   "source": [
    "#### 15.write a program to find the factors of a number"
   ]
  },
  {
   "cell_type": "code",
   "execution_count": null,
   "id": "15c6acfe",
   "metadata": {},
   "outputs": [],
   "source": [
    "n=int(input(\"Enter the number to find the factors of a number: \"))\n",
    "for i in range(1,n+1):\n",
    "    if n%i==0:\n",
    "        print(i)"
   ]
  },
  {
   "cell_type": "markdown",
   "id": "8cdaee4e",
   "metadata": {},
   "source": [
    "#### 16.write a program to check whether a given number is prime or not"
   ]
  },
  {
   "cell_type": "code",
   "execution_count": null,
   "id": "3c95ba63",
   "metadata": {
    "scrolled": true
   },
   "outputs": [],
   "source": [
    "n=int(input('Enter a number: '))\n",
    "if n>1:\n",
    "        for i in range(2,n):\n",
    "            if n%i==0:\n",
    "                print(\"The Entered number is not a prime number\")\n",
    "                break\n",
    "        else:\n",
    "            print(\"The Entered number is a prime number\")\n",
    "else:\n",
    "    if n==0 or n==1:\n",
    "        print(\"The Entered number is not a prime number\")\n",
    "    else:\n",
    "        print(\"Please enter the positive number\")"
   ]
  },
  {
   "cell_type": "markdown",
   "id": "a1e72474",
   "metadata": {},
   "source": [
    "#### 17.write a program to print prime numbers from 1 to 100"
   ]
  },
  {
   "cell_type": "code",
   "execution_count": null,
   "id": "c4134787",
   "metadata": {},
   "outputs": [],
   "source": [
    "#write a program to print prime numbers from 1 to 100\n",
    "for i in range(1,101):\n",
    "    if i>1:\n",
    "        for j in range(2,i):\n",
    "            if i%j==0:\n",
    "                break\n",
    "        else:\n",
    "            print(i)\n"
   ]
  },
  {
   "cell_type": "markdown",
   "id": "bdfcbc54",
   "metadata": {},
   "source": [
    "#### 18.write a program to print cube of all the numbers from 1 to given number"
   ]
  },
  {
   "cell_type": "code",
   "execution_count": null,
   "id": "32cbd064",
   "metadata": {},
   "outputs": [],
   "source": [
    "n=int(input(\"Enter a number: \"))\n",
    "for x in range(1,n+1):\n",
    "    print(\"The cube of a number\",x,\"is\",x**3)"
   ]
  },
  {
   "cell_type": "markdown",
   "id": "e036f990",
   "metadata": {},
   "source": [
    "#### 19. write a program to count the total number of digits in a number"
   ]
  },
  {
   "cell_type": "code",
   "execution_count": null,
   "id": "46d8983f",
   "metadata": {},
   "outputs": [],
   "source": [
    "n=int(input(\"Enter a number: \"))\n",
    "count=0\n",
    "while n!=0:\n",
    "    n//=10\n",
    "    count+=1\n",
    "print(\"The total number of digits are \",count)"
   ]
  },
  {
   "cell_type": "markdown",
   "id": "70678000",
   "metadata": {},
   "source": [
    "#### 20.write a program to print the factorial of a number"
   ]
  },
  {
   "cell_type": "code",
   "execution_count": null,
   "id": "d69d3d97",
   "metadata": {},
   "outputs": [],
   "source": [
    "#Fibonacci series\n",
    "n=int(input('Enter the number: '))\n",
    "f=1\n",
    "while n>0:\n",
    "    f=f*n\n",
    "    n=n-1\n",
    "print(f)"
   ]
  },
  {
   "cell_type": "markdown",
   "id": "7b70a074",
   "metadata": {},
   "source": [
    "#### 21.write a program to print the fibonacci series"
   ]
  },
  {
   "cell_type": "code",
   "execution_count": null,
   "id": "2ffc2880",
   "metadata": {},
   "outputs": [],
   "source": [
    "#Fibonacci sequence\n",
    "t=int(input('Enter the number: '))\n",
    "n1,n2=0,1\n",
    "count=0\n",
    "if t<=0:\n",
    "    print(\"Please enter a positive value\")\n",
    "elif t==1:\n",
    "    print(n2)\n",
    "else:\n",
    "    while count<=t:\n",
    "       print(n1)\n",
    "       n=n1+n2\n",
    "       n1=n2\n",
    "       n2=n\n",
    "       count+=1"
   ]
  },
  {
   "cell_type": "markdown",
   "id": "7160ae21",
   "metadata": {},
   "source": [
    "#### 22.write a program whether a given number is amstrong or not"
   ]
  },
  {
   "cell_type": "code",
   "execution_count": null,
   "id": "ef40ad97",
   "metadata": {},
   "outputs": [],
   "source": [
    "n=int(input(\"Enter the number: \"))\n",
    "count=len(str(n))\n",
    "sum=0\n",
    "temp=n\n",
    "while temp>0:\n",
    "    digit=temp%10\n",
    "    sum+=digit**count\n",
    "    temp=temp//10\n",
    "if n==sum:\n",
    "    print(\"The Entered number\",n,\"is an amstrong\")\n",
    "else:\n",
    "    print(\"The Entered number\",n,\"is not an amstrong\")"
   ]
  },
  {
   "cell_type": "markdown",
   "id": "7530e01a",
   "metadata": {},
   "source": [
    "#### 23.write a program whether a given number is strong or not"
   ]
  },
  {
   "cell_type": "code",
   "execution_count": null,
   "id": "9e5f48cf",
   "metadata": {
    "scrolled": true
   },
   "outputs": [],
   "source": [
    "n=int(input(\"Enter a number: \"))\n",
    "temp=n\n",
    "s=0\n",
    "while n>0:\n",
    "    fact=1\n",
    "    digit=n%10\n",
    "    for i in range(1,digit+1):\n",
    "        fact=fact*i\n",
    "    s=s+fact\n",
    "    n=n//10\n",
    "if temp==s:\n",
    "    print(\"The Entered number\",temp,\"is a strong number\")\n",
    "else:\n",
    "    print(\"The Entered number\",temp,\"is not a strong number\")"
   ]
  },
  {
   "cell_type": "markdown",
   "id": "f907da01",
   "metadata": {},
   "source": [
    "#### 24. write a program whether a given number is perfect or not"
   ]
  },
  {
   "cell_type": "markdown",
   "id": "a94e36c3",
   "metadata": {},
   "source": [
    "#### 25.write a program to print the following number pattern using a loop"
   ]
  },
  {
   "cell_type": "code",
   "execution_count": null,
   "id": "8c63d699",
   "metadata": {},
   "outputs": [],
   "source": [
    "'''\n",
    "a) 1            b) 1               c)  54321  (cone)  d) 12345       e) 54321\n",
    "   12              22                  5432              1234            4321\n",
    "   123             333                 543               123              321\n",
    "   1234             4444               54                12                21\n",
    "   12345            55555              5                 1                  1        \n",
    "'''  "
   ]
  },
  {
   "cell_type": "code",
   "execution_count": null,
   "id": "68cd8d6d",
   "metadata": {
    "scrolled": true
   },
   "outputs": [],
   "source": [
    "for i in range(1,7):\n",
    "    for j in range(1,i):\n",
    "            print(j,end=\"\")\n",
    "    print()"
   ]
  },
  {
   "cell_type": "code",
   "execution_count": null,
   "id": "280ff05a",
   "metadata": {},
   "outputs": [],
   "source": [
    "for i in range(6):\n",
    "    for j in range(i):\n",
    "            if i==4 or i==5:\n",
    "                print(i,end=\"\")\n",
    "            else:\n",
    "                print(i,end=\"\")\n",
    "    print()"
   ]
  },
  {
   "cell_type": "code",
   "execution_count": null,
   "id": "99a40ce3",
   "metadata": {},
   "outputs": [],
   "source": [
    "i=5\n",
    "str1=''\n",
    "while i>0:\n",
    "    str1=str1+str(i)\n",
    "    i=i-1\n",
    "int1 = int(str1)\n",
    "while int1!=0:\n",
    "    print(int1)\n",
    "    int1=int1//10"
   ]
  },
  {
   "cell_type": "code",
   "execution_count": null,
   "id": "12b7b099",
   "metadata": {},
   "outputs": [],
   "source": [
    "str1=''\n",
    "for i in range(1,6):\n",
    "    str1=str1+str(i)\n",
    "int1=int(str1)\n",
    "while int1!=0:\n",
    "    print(int1)\n",
    "    int1=int1//10"
   ]
  },
  {
   "cell_type": "code",
   "execution_count": null,
   "id": "4510727c",
   "metadata": {},
   "outputs": [],
   "source": [
    "j=5 \n",
    "while j>0:\n",
    "    i=j\n",
    "    while i>0:\n",
    "        print(i,end=\"\")\n",
    "        i=i-1\n",
    "    print()\n",
    "    j=j-1"
   ]
  },
  {
   "cell_type": "markdown",
   "id": "7c9a0b0a",
   "metadata": {},
   "source": [
    "#### 26.write a program to print the following number pattern using a loop "
   ]
  },
  {
   "cell_type": "code",
   "execution_count": null,
   "id": "48a14b49",
   "metadata": {},
   "outputs": [],
   "source": [
    "'''\n",
    " \n",
    " a) *           b) *****   c) *****  d) *****     e)    *\n",
    "    **             *****      ****       ****          **\n",
    "    ***            *****      ***         ***         *** \n",
    "    ****           *****      **           **        ****\n",
    "    *****          *****      *             *       *****\n",
    "   \n",
    "   '''"
   ]
  },
  {
   "cell_type": "code",
   "execution_count": null,
   "id": "9639ef7d",
   "metadata": {},
   "outputs": [],
   "source": [
    "for i in range(7):\n",
    "    for j in range(1,i):\n",
    "        print(\"*\",end=\"\")\n",
    "    print()"
   ]
  },
  {
   "cell_type": "code",
   "execution_count": null,
   "id": "10becb1e",
   "metadata": {},
   "outputs": [],
   "source": [
    "for i in range(5):\n",
    "    for i in range(5):\n",
    "        print(\"*\",end=\"\")\n",
    "    print()"
   ]
  },
  {
   "cell_type": "code",
   "execution_count": null,
   "id": "77d146fb",
   "metadata": {},
   "outputs": [],
   "source": [
    "i=5\n",
    "j=0\n",
    "while 0 < i:\n",
    "    while j < i:\n",
    "        print(\"*\",end=\"\")\n",
    "        j=j+1\n",
    "    print()\n",
    "    i=i-1\n",
    "    j=0"
   ]
  },
  {
   "cell_type": "code",
   "execution_count": null,
   "id": "f0b8500f",
   "metadata": {},
   "outputs": [],
   "source": [
    "i=5\n",
    "j=0\n",
    "str1=\"\"\n",
    "while 0 < i:\n",
    "    while j < i:\n",
    "        str1=str1+\"*\"\n",
    "        j=j+1\n",
    "    print(str1.rjust(5,\" \"))\n",
    "    i=i-1\n",
    "    j=0\n",
    "    str1=\"\""
   ]
  },
  {
   "cell_type": "code",
   "execution_count": null,
   "id": "abdc85af",
   "metadata": {},
   "outputs": [],
   "source": [
    "str1=\"\"\n",
    "for i in range(0,6):\n",
    "    for j in range(0,i):\n",
    "        str1=str1+\"*\"\n",
    "    print(str1.rjust(5,\" \"))\n",
    "    str1=\"\""
   ]
  },
  {
   "cell_type": "markdown",
   "id": "82ed1311",
   "metadata": {},
   "source": [
    "####  27.write a program to print the following number pattern using a loop "
   ]
  },
  {
   "cell_type": "code",
   "execution_count": null,
   "id": "d07459cf",
   "metadata": {},
   "outputs": [],
   "source": [
    "'''\n",
    "a)      A              b) A             c) ABCDE            d)   EEEEE\n",
    "        AB                BB               ABCD                  DDDD\n",
    "        ABC               CCC              ABC                   CCC\n",
    "        ABCD              DDDD             AB                    BB\n",
    "        ABCDE             EEEEE            A                     A\n",
    "'''"
   ]
  },
  {
   "cell_type": "code",
   "execution_count": null,
   "id": "95b1b4f6",
   "metadata": {},
   "outputs": [],
   "source": [
    "str1='ABCDE'\n",
    "i=0\n",
    "j=0\n",
    "while i<len(str1):\n",
    "    while j<len(str1):\n",
    "        print(str1[i:j+1])\n",
    "        j=j+1\n",
    "    i=i+1"
   ]
  },
  {
   "cell_type": "code",
   "execution_count": null,
   "id": "ff663b34",
   "metadata": {},
   "outputs": [],
   "source": [
    "str1='ABCDE'\n",
    "for x in range(len(str1)):\n",
    "     for y in range(0,x+1):\n",
    "            print(str1[x],end=\"\")\n",
    "     print() "
   ]
  },
  {
   "cell_type": "code",
   "execution_count": null,
   "id": "50fa88e4",
   "metadata": {},
   "outputs": [],
   "source": [
    "str1='ABCDE'\n",
    "i=5\n",
    "while i>=len(str1):\n",
    "    for j in range(i):\n",
    "        print(str1[i-1],end=\"\")\n",
    "    i=i-1"
   ]
  },
  {
   "cell_type": "markdown",
   "id": "1c4575a9",
   "metadata": {},
   "source": [
    "#### 28.write a funtion that takes a number as a parameter and check the number is prime or not"
   ]
  },
  {
   "cell_type": "code",
   "execution_count": null,
   "id": "140f5109",
   "metadata": {},
   "outputs": [],
   "source": [
    "def prime_checker(num):\n",
    "    if num>1:\n",
    "        for i in range(2,num):\n",
    "            if num%i==0:\n",
    "                print(\"The Entered number {} is not a prime number\".format(num))\n",
    "                break\n",
    "        else:\n",
    "            print(\"The Entered number {} is a prime number\".format(num))\n",
    "                \n",
    "n=int(input(\"Enter a number: \"))\n",
    "prime_checker(n)"
   ]
  },
  {
   "cell_type": "markdown",
   "id": "a1272129",
   "metadata": {},
   "source": [
    "#### 29. write a number to check whether a given number is perfect number or not"
   ]
  },
  {
   "cell_type": "code",
   "execution_count": null,
   "id": "51eed935",
   "metadata": {},
   "outputs": [],
   "source": []
  },
  {
   "cell_type": "markdown",
   "id": "9b928b6c",
   "metadata": {},
   "source": [
    "#### 30. write a function that checks whether a passed string is palindrome or not"
   ]
  },
  {
   "cell_type": "code",
   "execution_count": null,
   "id": "84572dc3",
   "metadata": {},
   "outputs": [],
   "source": [
    "def palindrome(s):\n",
    "    temp=s\n",
    "    str2=''\n",
    "    for i in s:\n",
    "        str2 = i+str2\n",
    "    if str2==temp:\n",
    "        print(\"The Entered string {} is a palindrome\".format(temp))\n",
    "    else:\n",
    "        print(\"The Entered string {} is not a palindrome\".format(temp))\n",
    "    \n",
    "str1=input(\"Enter a string: \")\n",
    "palindrome(str1)"
   ]
  },
  {
   "cell_type": "markdown",
   "id": "117a34b9",
   "metadata": {},
   "source": [
    "#### 31.write a function to check whether the given number is strong or not"
   ]
  },
  {
   "cell_type": "code",
   "execution_count": 18,
   "id": "feb4e3de",
   "metadata": {},
   "outputs": [
    {
     "name": "stdout",
     "output_type": "stream",
     "text": [
      "Enter a number: 145\n",
      "The entered number is a strong number\n"
     ]
    }
   ],
   "source": [
    "def strong(n):\n",
    "    sum=0\n",
    "    temp=n\n",
    "    while n!=0:\n",
    "        dig=n%10\n",
    "        fact=1\n",
    "        s=dig\n",
    "        while s>0:\n",
    "            fact=fact*s\n",
    "            s=s-1\n",
    "        sum=sum+fact\n",
    "        n=n//10\n",
    "    if sum==temp:\n",
    "        print(\"The entered number is a strong number\")\n",
    "    else:\n",
    "        print(\"The entered number is not a strong number\")\n",
    "    \n",
    "n=int(input(\"Enter a number: \"))\n",
    "strong(n)"
   ]
  },
  {
   "cell_type": "markdown",
   "id": "98e6f347",
   "metadata": {},
   "source": [
    "#### 32.write a function to print sum of reverse of a number"
   ]
  },
  {
   "cell_type": "code",
   "execution_count": null,
   "id": "f2418602",
   "metadata": {},
   "outputs": [],
   "source": [
    "def reverse_num(n):\n",
    "    rev=0\n",
    "    sum=0\n",
    "    while n!=0:\n",
    "        digit=n%10\n",
    "        rev=rev*10+digit\n",
    "        n=n//10\n",
    "        \n",
    "    rev=str(rev)\n",
    "    \n",
    "    for i in rev:\n",
    "        sum=sum+int(i)\n",
    "    print(sum)\n",
    "    \n",
    "n=int(input(\"Enter a number: \"))\n",
    "reverse_num(n)"
   ]
  },
  {
   "cell_type": "code",
   "execution_count": null,
   "id": "df923b73",
   "metadata": {},
   "outputs": [],
   "source": []
  }
 ],
 "metadata": {
  "kernelspec": {
   "display_name": "Python 3 (ipykernel)",
   "language": "python",
   "name": "python3"
  },
  "language_info": {
   "codemirror_mode": {
    "name": "ipython",
    "version": 3
   },
   "file_extension": ".py",
   "mimetype": "text/x-python",
   "name": "python",
   "nbconvert_exporter": "python",
   "pygments_lexer": "ipython3",
   "version": "3.9.12"
  }
 },
 "nbformat": 4,
 "nbformat_minor": 5
}
