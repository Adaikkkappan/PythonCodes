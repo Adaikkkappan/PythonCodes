{
 "cells": [
  {
   "cell_type": "markdown",
   "id": "15776f84",
   "metadata": {},
   "source": [
    "### Basic Input/Output Programs"
   ]
  },
  {
   "cell_type": "markdown",
   "id": "dfc7ae0c",
   "metadata": {},
   "source": [
    "#### 1.write a program to print yourself introduction"
   ]
  },
  {
   "cell_type": "code",
   "execution_count": 1,
   "id": "c0d34ac0",
   "metadata": {},
   "outputs": [
    {
     "name": "stdout",
     "output_type": "stream",
     "text": [
      "Hi, My name is Adaikkappan, I am from Chennai, I completed my B.E(CSE) in Anna University and I have 5 year of experience in IT Industry\n",
      "I am expertise in application development using oracle forms and reports, SQL, PLSQL\n"
     ]
    }
   ],
   "source": [
    "print(\"Hi, My name is Adaikkappan, I am from Chennai, I completed my B.E(CSE) in Anna University and I have 5 year of experience in IT Industry\")\n",
    "print(\"I am expertise in application development using oracle forms and reports, SQL, PLSQL\")"
   ]
  },
  {
   "cell_type": "markdown",
   "id": "357e4a22",
   "metadata": {},
   "source": [
    "####  2. write a program to do the following operation\n",
    "- Addition\n",
    "- Subtraction\n",
    "- Multiplication\n",
    "- Division\n",
    "- Modulus"
   ]
  },
  {
   "cell_type": "code",
   "execution_count": 3,
   "id": "26eef405",
   "metadata": {},
   "outputs": [
    {
     "name": "stdout",
     "output_type": "stream",
     "text": [
      "Enter a first value: 5\n",
      "Enter a second value: 6\n",
      "The Addition of two numbers 5 and 6 is 11\n",
      "The Subtraction of two numbers 5 and 6 is -1\n",
      "The Multiplication of two numbers 5 and 6 is 30\n",
      "The Division of two numbers 5 and 6 is 0.8333333333333334\n",
      "The Modulus of two numbers 5 and 6 is 5\n",
      "The Exponent of two numbers 5 and 6 is 15625\n"
     ]
    }
   ],
   "source": [
    "num1=int(input(\"Enter a first value: \"))\n",
    "num2=int(input(\"Enter a second value: \"))\n",
    "\n",
    "#Addition\n",
    "\n",
    "add=num1+num2\n",
    "print(\"The Addition of two numbers {} and {} is {}\".format(num1,num2,add))\n",
    "\n",
    "#Subtraction\n",
    "\n",
    "sub=num1-num2\n",
    "print(\"The Subtraction of two numbers {} and {} is {}\".format(num1,num2,sub))\n",
    "\n",
    "#Multiplication\n",
    "\n",
    "mul=num1*num2\n",
    "print(\"The Multiplication of two numbers {} and {} is {}\".format(num1,num2,mul))\n",
    "\n",
    "#Division\n",
    "\n",
    "div=num1/num2\n",
    "print(\"The Division of two numbers {} and {} is {}\".format(num1,num2,div))\n",
    "\n",
    "\n",
    "#Modulus\n",
    "\n",
    "mod=num1%num2\n",
    "print(\"The Modulus of two numbers {} and {} is {}\".format(num1,num2,mod))\n",
    "\n",
    "#Exponent\n",
    "\n",
    "exp=num1**num2\n",
    "print(\"The Exponent of two numbers {} and {} is {}\".format(num1,num2,exp))\n"
   ]
  },
  {
   "cell_type": "code",
   "execution_count": null,
   "id": "3b98b30a",
   "metadata": {},
   "outputs": [],
   "source": []
  }
 ],
 "metadata": {
  "kernelspec": {
   "display_name": "Python 3 (ipykernel)",
   "language": "python",
   "name": "python3"
  },
  "language_info": {
   "codemirror_mode": {
    "name": "ipython",
    "version": 3
   },
   "file_extension": ".py",
   "mimetype": "text/x-python",
   "name": "python",
   "nbconvert_exporter": "python",
   "pygments_lexer": "ipython3",
   "version": "3.9.12"
  }
 },
 "nbformat": 4,
 "nbformat_minor": 5
}
