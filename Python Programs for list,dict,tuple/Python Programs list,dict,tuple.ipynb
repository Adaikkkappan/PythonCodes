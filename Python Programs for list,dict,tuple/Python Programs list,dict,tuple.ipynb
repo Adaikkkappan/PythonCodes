{
 "cells": [
  {
   "cell_type": "markdown",
   "id": "e7db8de3",
   "metadata": {},
   "source": [
    "#### 1.first character in string\n"
   ]
  },
  {
   "cell_type": "code",
   "execution_count": 12,
   "id": "b3e2226c",
   "metadata": {},
   "outputs": [
    {
     "data": {
      "text/plain": [
       "'w'"
      ]
     },
     "execution_count": 12,
     "metadata": {},
     "output_type": "execute_result"
    }
   ],
   "source": [
    "str1=\"welcome everyone\"\n",
    "str1[0]"
   ]
  },
  {
   "cell_type": "markdown",
   "id": "a1d634ef",
   "metadata": {},
   "source": [
    "#### 2.last character in string using len function"
   ]
  },
  {
   "cell_type": "code",
   "execution_count": 34,
   "id": "d30f983b",
   "metadata": {},
   "outputs": [
    {
     "data": {
      "text/plain": [
       "'e'"
      ]
     },
     "execution_count": 34,
     "metadata": {},
     "output_type": "execute_result"
    }
   ],
   "source": [
    "str1=\"welcome everyone\"\n",
    "length=len(str1)\n",
    "str1[length-1]"
   ]
  },
  {
   "cell_type": "markdown",
   "id": "030bde26",
   "metadata": {},
   "source": [
    "#### 3.last character in string "
   ]
  },
  {
   "cell_type": "code",
   "execution_count": 35,
   "id": "53af4523",
   "metadata": {},
   "outputs": [
    {
     "data": {
      "text/plain": [
       "'e'"
      ]
     },
     "execution_count": 35,
     "metadata": {},
     "output_type": "execute_result"
    }
   ],
   "source": [
    "str1=\"welcome everyone\"\n",
    "str1[-1]"
   ]
  },
  {
   "cell_type": "markdown",
   "id": "e82d4d2b",
   "metadata": {},
   "source": [
    "#### 4.fetch the 7th element of the string"
   ]
  },
  {
   "cell_type": "code",
   "execution_count": 41,
   "id": "e066ef33",
   "metadata": {},
   "outputs": [
    {
     "data": {
      "text/plain": [
       "'i'"
      ]
     },
     "execution_count": 41,
     "metadata": {},
     "output_type": "execute_result"
    }
   ],
   "source": [
    "str1=\"Python is a programming language\"\n",
    "str1[7]"
   ]
  },
  {
   "cell_type": "markdown",
   "id": "1651c1fa",
   "metadata": {},
   "source": [
    "#### 5.fetch all characters from 0 to 5 index location excluding the character at loc 5."
   ]
  },
  {
   "cell_type": "code",
   "execution_count": 43,
   "id": "51b2df52",
   "metadata": {},
   "outputs": [
    {
     "data": {
      "text/plain": [
       "'Pytho'"
      ]
     },
     "execution_count": 43,
     "metadata": {},
     "output_type": "execute_result"
    }
   ],
   "source": [
    "str1=\"Python is a programming language\"\n",
    "str1[0:5]"
   ]
  },
  {
   "cell_type": "markdown",
   "id": "d37cccb5",
   "metadata": {},
   "source": [
    "#### 6.retrieve all characters between 6 -12 index ecluding loc 12."
   ]
  },
  {
   "cell_type": "code",
   "execution_count": 46,
   "id": "70bd5d3f",
   "metadata": {},
   "outputs": [
    {
     "data": {
      "text/plain": [
       "'e ever'"
      ]
     },
     "execution_count": 46,
     "metadata": {},
     "output_type": "execute_result"
    }
   ],
   "source": [
    "str1=\"Welcome everyone\"\n",
    "str1[6:12]"
   ]
  },
  {
   "cell_type": "markdown",
   "id": "68335d71",
   "metadata": {},
   "source": [
    "#### 7.retrieve last four characters of the string"
   ]
  },
  {
   "cell_type": "code",
   "execution_count": 77,
   "id": "539dd992",
   "metadata": {},
   "outputs": [
    {
     "data": {
      "text/plain": [
       "'thon'"
      ]
     },
     "execution_count": 77,
     "metadata": {},
     "output_type": "execute_result"
    }
   ],
   "source": [
    "str1=\"Welcome to the world of Python\"\n",
    "str1[-4:len(str1)]"
   ]
  },
  {
   "cell_type": "markdown",
   "id": "f30dd0a8",
   "metadata": {},
   "source": [
    "#### 8.retrieve last six characters of the string"
   ]
  },
  {
   "cell_type": "code",
   "execution_count": 78,
   "id": "c9a4bd1c",
   "metadata": {},
   "outputs": [
    {
     "data": {
      "text/plain": [
       "'Python'"
      ]
     },
     "execution_count": 78,
     "metadata": {},
     "output_type": "execute_result"
    }
   ],
   "source": [
    "str1=\"Welcome to the world of Python\"\n",
    "str1[-6:len(str1)]"
   ]
  },
  {
   "cell_type": "markdown",
   "id": "ebe9a20d",
   "metadata": {},
   "source": [
    "#### 9.retrieve first four characters of the string"
   ]
  },
  {
   "cell_type": "code",
   "execution_count": 80,
   "id": "6904e125",
   "metadata": {},
   "outputs": [
    {
     "data": {
      "text/plain": [
       "'Welc'"
      ]
     },
     "execution_count": 80,
     "metadata": {},
     "output_type": "execute_result"
    }
   ],
   "source": [
    "str1=\"Welcome to the world of Python\"\n",
    "str1[0:4]"
   ]
  },
  {
   "cell_type": "markdown",
   "id": "abb15cef",
   "metadata": {},
   "source": [
    "#### Write a program to reverse the string."
   ]
  },
  {
   "cell_type": "code",
   "execution_count": 23,
   "id": "bc6b1b0f",
   "metadata": {},
   "outputs": [
    {
     "name": "stdout",
     "output_type": "stream",
     "text": [
      "enoyrevE emocleW\n"
     ]
    }
   ],
   "source": [
    "str1=\"Welcome Everyone\"\n",
    "str2=\"\"\n",
    "l=-1\n",
    "while l>=-len(str1):\n",
    "    str2=str2+str1[l]\n",
    "    l-=1\n",
    "print(str2)\n",
    "\n"
   ]
  },
  {
   "cell_type": "markdown",
   "id": "4e60774b",
   "metadata": {},
   "source": [
    "#### Write a program to check whether a given string is palindrome or not."
   ]
  },
  {
   "cell_type": "code",
   "execution_count": 34,
   "id": "334605c2",
   "metadata": {},
   "outputs": [
    {
     "name": "stdout",
     "output_type": "stream",
     "text": [
      "madam\n",
      "String is a palindrome\n"
     ]
    }
   ],
   "source": [
    "str1=input()\n",
    "str2=\"\"\n",
    "l=-1\n",
    "while l>=-len(str1):\n",
    "    str2=str2+str1[l]\n",
    "    l-=1\n",
    "if str2==str1:\n",
    " print(\"String is a palindrome\")\n",
    "else:\n",
    " print(\"string is not a palindrome\")   "
   ]
  },
  {
   "cell_type": "markdown",
   "id": "67abe410",
   "metadata": {},
   "source": [
    "#### Write a program to find the length of string without using len function."
   ]
  },
  {
   "cell_type": "code",
   "execution_count": 2,
   "id": "ad591043",
   "metadata": {},
   "outputs": [
    {
     "name": "stdout",
     "output_type": "stream",
     "text": [
      "16\n"
     ]
    }
   ],
   "source": [
    "str1=\"Welcome Everyone\"\n",
    "l=0\n",
    "while str1[l:]:\n",
    "    l+=1\n",
    "print(l)"
   ]
  },
  {
   "cell_type": "code",
   "execution_count": 1,
   "id": "371e2b46",
   "metadata": {},
   "outputs": [
    {
     "data": {
      "text/plain": [
       "'1.Calculate square  of all numbers between 0-10 using list comprehensions\\n   2.multiply whole list by 10\\n   3.extract numbers from a string using list comprehension\\n   4.Write the program to remove the duplicate element of the list.\\n   5.Write a program to find the sum of the element in the list.\\n   6.Write the program to find the lists consist of at least one common element.'"
      ]
     },
     "execution_count": 1,
     "metadata": {},
     "output_type": "execute_result"
    }
   ],
   "source": [
    "\"\"\"1.Calculate square  of all numbers between 0-10 using list comprehensions\n",
    "   2.multiply whole list by 10\n",
    "   3.extract numbers from a string using list comprehension\n",
    "   4.Write the program to remove the duplicate element of the list.\n",
    "   5.Write a program to find the sum of the element in the list.\n",
    "   6.Write the program to find the lists consist of at least one common element.\"\"\""
   ]
  },
  {
   "cell_type": "markdown",
   "id": "1e3e17da",
   "metadata": {},
   "source": [
    "#### 1.Calculate square  of all numbers between 0-10 using list comprehensions"
   ]
  },
  {
   "cell_type": "code",
   "execution_count": 3,
   "id": "9e54fea9",
   "metadata": {},
   "outputs": [
    {
     "name": "stdout",
     "output_type": "stream",
     "text": [
      "[0, 1, 4, 9, 16, 25, 36, 49, 64, 81]\n"
     ]
    }
   ],
   "source": [
    "my_arr = [i**2 for i in range(10)]\n",
    "print(my_arr)"
   ]
  },
  {
   "cell_type": "markdown",
   "id": "2f39e76b",
   "metadata": {},
   "source": [
    "#### 2.multiply whole list by 10"
   ]
  },
  {
   "cell_type": "code",
   "execution_count": 5,
   "id": "e351d0a6",
   "metadata": {},
   "outputs": [
    {
     "name": "stdout",
     "output_type": "stream",
     "text": [
      "[20, 40, 50, 70, 80]\n"
     ]
    }
   ],
   "source": [
    "my_list=[2,4,5,7,8]\n",
    "res=[i*10 for i in my_list]\n",
    "print(res)"
   ]
  },
  {
   "cell_type": "markdown",
   "id": "967beee4",
   "metadata": {},
   "source": [
    "#### 3.extract numbers from a string using list comprehension"
   ]
  },
  {
   "cell_type": "code",
   "execution_count": 6,
   "id": "5292586f",
   "metadata": {},
   "outputs": [
    {
     "name": "stdout",
     "output_type": "stream",
     "text": [
      "['I', ' ', 'a', 'm', ' ', '1', '2', '3', ' ', 'a', 'n', 'd', ' ', 'd', 'o', 'i', 'n', 'g', ' ', '5', '6', '7']\n"
     ]
    }
   ],
   "source": [
    "str1=\"I am 123 and doing 567\"\n",
    "arr_list=[i for i in str1]\n",
    "print(arr_list)"
   ]
  },
  {
   "cell_type": "markdown",
   "id": "77a8119d",
   "metadata": {},
   "source": [
    "#### 4.Write the program to remove the duplicate element of the list."
   ]
  },
  {
   "cell_type": "code",
   "execution_count": 9,
   "id": "603c7a41",
   "metadata": {},
   "outputs": [
    {
     "name": "stdout",
     "output_type": "stream",
     "text": [
      "[89, 56, 43, 66]\n"
     ]
    }
   ],
   "source": [
    "#Remove all the duplicate elements\n",
    "list1=[98,78,89,78,56,43,66,98]\n",
    "list2=[i for i in list1 if list1.count(i)<=1]\n",
    "print(list2)"
   ]
  },
  {
   "cell_type": "code",
   "execution_count": 65,
   "id": "42ac9756",
   "metadata": {},
   "outputs": [
    {
     "name": "stdout",
     "output_type": "stream",
     "text": [
      "[89, 78, 56, 43, 66, 98]\n"
     ]
    }
   ],
   "source": [
    "#Remove the duplicates\n",
    "list1=[98,78,89,78,56,43,66,98]\n",
    "tmp=[]\n",
    "for i in list1:\n",
    "    if i in tmp:\n",
    "        list1.remove(i)\n",
    "    tmp.append(i) \n",
    "print(list1)"
   ]
  },
  {
   "cell_type": "markdown",
   "id": "732965a4",
   "metadata": {},
   "source": [
    "#### 5.Write a program to find the sum of the element in the list."
   ]
  },
  {
   "cell_type": "code",
   "execution_count": 97,
   "id": "77cead41",
   "metadata": {},
   "outputs": [
    {
     "name": "stdout",
     "output_type": "stream",
     "text": [
      "15\n"
     ]
    }
   ],
   "source": [
    "l1=[1,2,3,4,5]\n",
    "sum=0\n",
    "i=0\n",
    "while i<len(l1):\n",
    "    sum+=l1[i]\n",
    "    i=i+1\n",
    "print(sum)"
   ]
  },
  {
   "cell_type": "markdown",
   "id": "0bdc6e43",
   "metadata": {},
   "source": [
    "#### 6.Write the program to find the lists consist of at least one common element."
   ]
  },
  {
   "cell_type": "code",
   "execution_count": 113,
   "id": "24ab1d60",
   "metadata": {},
   "outputs": [
    {
     "name": "stdout",
     "output_type": "stream",
     "text": [
      "[2, 6]\n"
     ]
    }
   ],
   "source": [
    "l2=[2,4,6,8,10,2,3,5,6]\n",
    "tmp=[]\n",
    "sum=[]\n",
    "for i in l2:\n",
    "    if i in tmp:\n",
    "        sum.append(i)\n",
    "    tmp.append(i)\n",
    "print(sum)"
   ]
  },
  {
   "cell_type": "markdown",
   "id": "0e223d0b",
   "metadata": {},
   "source": [
    "#### 1.sort a dictionary by value"
   ]
  },
  {
   "cell_type": "code",
   "execution_count": 9,
   "id": "53645d57",
   "metadata": {},
   "outputs": [],
   "source": [
    "d={'one':11,'two':25,'three':60,'four':24}"
   ]
  },
  {
   "cell_type": "code",
   "execution_count": 10,
   "id": "ec214cbb",
   "metadata": {},
   "outputs": [
    {
     "data": {
      "text/plain": [
       "[11, 24, 25, 60]"
      ]
     },
     "execution_count": 10,
     "metadata": {},
     "output_type": "execute_result"
    }
   ],
   "source": [
    "x=d.values()\n",
    "sorted(x)"
   ]
  },
  {
   "cell_type": "markdown",
   "id": "dcc4a927",
   "metadata": {},
   "source": [
    "#### 2.add a key to a dictionary"
   ]
  },
  {
   "cell_type": "code",
   "execution_count": 11,
   "id": "2eb2eaff",
   "metadata": {},
   "outputs": [
    {
     "data": {
      "text/plain": [
       "{'one': 11, 'two': 25, 'three': 60, 'four': 24}"
      ]
     },
     "execution_count": 11,
     "metadata": {},
     "output_type": "execute_result"
    }
   ],
   "source": [
    "d"
   ]
  },
  {
   "cell_type": "code",
   "execution_count": 14,
   "id": "fb1ddc6e",
   "metadata": {},
   "outputs": [],
   "source": [
    "d['five']=98"
   ]
  },
  {
   "cell_type": "code",
   "execution_count": 15,
   "id": "7db820f2",
   "metadata": {},
   "outputs": [
    {
     "data": {
      "text/plain": [
       "{'one': 11, 'two': 25, 'three': 60, 'four': 24, 'five': 98}"
      ]
     },
     "execution_count": 15,
     "metadata": {},
     "output_type": "execute_result"
    }
   ],
   "source": [
    "d"
   ]
  },
  {
   "cell_type": "markdown",
   "id": "f4689d65",
   "metadata": {},
   "source": [
    "#### 3.divide all values in a dictionary by 10"
   ]
  },
  {
   "cell_type": "code",
   "execution_count": 16,
   "id": "b52cde14",
   "metadata": {},
   "outputs": [
    {
     "data": {
      "text/plain": [
       "{0: 0.0,\n",
       " 1: 0.1,\n",
       " 2: 0.2,\n",
       " 3: 0.3,\n",
       " 4: 0.4,\n",
       " 5: 0.5,\n",
       " 6: 0.6,\n",
       " 7: 0.7,\n",
       " 8: 0.8,\n",
       " 9: 0.9}"
      ]
     },
     "execution_count": 16,
     "metadata": {},
     "output_type": "execute_result"
    }
   ],
   "source": [
    "d={i:i/10 for i in range(10)}\n",
    "d"
   ]
  },
  {
   "cell_type": "markdown",
   "id": "346d95e4",
   "metadata": {},
   "source": [
    "####  4.lower to upper case"
   ]
  },
  {
   "cell_type": "code",
   "execution_count": 82,
   "id": "8fd27475",
   "metadata": {},
   "outputs": [],
   "source": [
    "d={10:\"harish\",20:\"janu\",30:\"vicky\"}"
   ]
  },
  {
   "cell_type": "code",
   "execution_count": 83,
   "id": "33102dec",
   "metadata": {},
   "outputs": [
    {
     "data": {
      "text/plain": [
       "{10: 'harish', 20: 'janu', 30: 'vicky'}"
      ]
     },
     "execution_count": 83,
     "metadata": {},
     "output_type": "execute_result"
    }
   ],
   "source": [
    "d"
   ]
  },
  {
   "cell_type": "code",
   "execution_count": 95,
   "id": "82528ec7",
   "metadata": {},
   "outputs": [],
   "source": [
    "x={i:d[i].upper() for i in d}"
   ]
  },
  {
   "cell_type": "code",
   "execution_count": 96,
   "id": "4884b59d",
   "metadata": {},
   "outputs": [
    {
     "data": {
      "text/plain": [
       "{10: 'HARISH', 20: 'JANU', 30: 'VICKY'}"
      ]
     },
     "execution_count": 96,
     "metadata": {},
     "output_type": "execute_result"
    }
   ],
   "source": [
    "x"
   ]
  },
  {
   "cell_type": "code",
   "execution_count": 97,
   "id": "0dfe6193",
   "metadata": {},
   "outputs": [
    {
     "name": "stdout",
     "output_type": "stream",
     "text": [
      "10 : HARISH\n",
      "20 : JANU\n",
      "30 : VICKY\n"
     ]
    }
   ],
   "source": [
    "#another way \n",
    "for i in d:\n",
    "    print(i,':',d[i].upper())"
   ]
  },
  {
   "cell_type": "markdown",
   "id": "176632cd",
   "metadata": {},
   "source": [
    "#### 1.convert a string into list,tuple & set"
   ]
  },
  {
   "cell_type": "code",
   "execution_count": 1,
   "id": "f1472f5a",
   "metadata": {},
   "outputs": [
    {
     "data": {
      "text/plain": [
       "str"
      ]
     },
     "execution_count": 1,
     "metadata": {},
     "output_type": "execute_result"
    }
   ],
   "source": [
    "str1=\"I bought a car\"\n",
    "type(str1)"
   ]
  },
  {
   "cell_type": "code",
   "execution_count": 2,
   "id": "4f22baa0",
   "metadata": {},
   "outputs": [],
   "source": [
    "List1=list(str1)"
   ]
  },
  {
   "cell_type": "code",
   "execution_count": 4,
   "id": "24cab452",
   "metadata": {},
   "outputs": [
    {
     "data": {
      "text/plain": [
       "['I', ' ', 'b', 'o', 'u', 'g', 'h', 't', ' ', 'a', ' ', 'c', 'a', 'r']"
      ]
     },
     "execution_count": 4,
     "metadata": {},
     "output_type": "execute_result"
    }
   ],
   "source": [
    "List1"
   ]
  },
  {
   "cell_type": "code",
   "execution_count": 6,
   "id": "fb0eb0a0",
   "metadata": {},
   "outputs": [
    {
     "data": {
      "text/plain": [
       "list"
      ]
     },
     "execution_count": 6,
     "metadata": {},
     "output_type": "execute_result"
    }
   ],
   "source": [
    "type(List1)"
   ]
  },
  {
   "cell_type": "code",
   "execution_count": 8,
   "id": "f9201a2f",
   "metadata": {},
   "outputs": [],
   "source": [
    "Tuple1=tuple(str1)"
   ]
  },
  {
   "cell_type": "code",
   "execution_count": 9,
   "id": "0281a1f9",
   "metadata": {},
   "outputs": [
    {
     "data": {
      "text/plain": [
       "tuple"
      ]
     },
     "execution_count": 9,
     "metadata": {},
     "output_type": "execute_result"
    }
   ],
   "source": [
    "type(Tuple1)"
   ]
  },
  {
   "cell_type": "code",
   "execution_count": 10,
   "id": "7b06020e",
   "metadata": {},
   "outputs": [
    {
     "data": {
      "text/plain": [
       "('I', ' ', 'b', 'o', 'u', 'g', 'h', 't', ' ', 'a', ' ', 'c', 'a', 'r')"
      ]
     },
     "execution_count": 10,
     "metadata": {},
     "output_type": "execute_result"
    }
   ],
   "source": [
    "Tuple1"
   ]
  },
  {
   "cell_type": "code",
   "execution_count": 12,
   "id": "51be4053",
   "metadata": {},
   "outputs": [
    {
     "data": {
      "text/plain": [
       "set"
      ]
     },
     "execution_count": 12,
     "metadata": {},
     "output_type": "execute_result"
    }
   ],
   "source": [
    "d=set(str1)\n",
    "type(d)"
   ]
  },
  {
   "cell_type": "code",
   "execution_count": 13,
   "id": "de1f86d5",
   "metadata": {},
   "outputs": [
    {
     "data": {
      "text/plain": [
       "{' ', 'I', 'a', 'b', 'c', 'g', 'h', 'o', 'r', 't', 'u'}"
      ]
     },
     "execution_count": 13,
     "metadata": {},
     "output_type": "execute_result"
    }
   ],
   "source": [
    "d"
   ]
  },
  {
   "cell_type": "code",
   "execution_count": null,
   "id": "19ff5da2",
   "metadata": {},
   "outputs": [],
   "source": []
  }
 ],
 "metadata": {
  "kernelspec": {
   "display_name": "Python 3 (ipykernel)",
   "language": "python",
   "name": "python3"
  },
  "language_info": {
   "codemirror_mode": {
    "name": "ipython",
    "version": 3
   },
   "file_extension": ".py",
   "mimetype": "text/x-python",
   "name": "python",
   "nbconvert_exporter": "python",
   "pygments_lexer": "ipython3",
   "version": "3.9.12"
  }
 },
 "nbformat": 4,
 "nbformat_minor": 5
}
