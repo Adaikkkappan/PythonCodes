{
 "cells": [
  {
   "cell_type": "code",
   "execution_count": 1,
   "id": "08bc79bb",
   "metadata": {},
   "outputs": [],
   "source": [
    "import pandas as pd\n",
    "import numpy as np\n",
    "import warnings\n",
    "warnings.filterwarnings('ignore')"
   ]
  },
  {
   "cell_type": "markdown",
   "id": "47fd0552",
   "metadata": {},
   "source": [
    "#### Return all the element of the series "
   ]
  },
  {
   "cell_type": "code",
   "execution_count": 3,
   "id": "f0d32844",
   "metadata": {},
   "outputs": [
    {
     "data": {
      "text/plain": [
       "0    1\n",
       "1    2\n",
       "2    3\n",
       "3    4\n",
       "4    5\n",
       "5    6\n",
       "6    8\n",
       "7    9\n",
       "dtype: int64"
      ]
     },
     "execution_count": 3,
     "metadata": {},
     "output_type": "execute_result"
    }
   ],
   "source": [
    "s=pd.Series([1,2,3,4,5,6,8,9])\n",
    "s[0:len(s)]"
   ]
  },
  {
   "cell_type": "markdown",
   "id": "b559a055",
   "metadata": {},
   "source": [
    "#### first three elements of the series "
   ]
  },
  {
   "cell_type": "code",
   "execution_count": 5,
   "id": "cfac89e4",
   "metadata": {},
   "outputs": [
    {
     "data": {
      "text/plain": [
       "0    1\n",
       "1    2\n",
       "2    3\n",
       "3    4\n",
       "dtype: int64"
      ]
     },
     "execution_count": 5,
     "metadata": {},
     "output_type": "execute_result"
    }
   ],
   "source": [
    "s=pd.Series([1,2,3,4,5,6,8,9])\n",
    "s[0:4]"
   ]
  },
  {
   "cell_type": "markdown",
   "id": "ad4e647c",
   "metadata": {},
   "source": [
    "#### last element of the series"
   ]
  },
  {
   "cell_type": "code",
   "execution_count": 18,
   "id": "85639ba0",
   "metadata": {},
   "outputs": [
    {
     "name": "stdout",
     "output_type": "stream",
     "text": [
      "9\n"
     ]
    }
   ],
   "source": [
    "s=pd.Series([1,2,3,4,5,6,8,9])\n",
    "print(s[len(s)-1])"
   ]
  },
  {
   "cell_type": "markdown",
   "id": "361a332f",
   "metadata": {},
   "source": [
    "#### Return all the element of the series except the last two elements"
   ]
  },
  {
   "cell_type": "code",
   "execution_count": 20,
   "id": "82b9bde9",
   "metadata": {},
   "outputs": [
    {
     "name": "stdout",
     "output_type": "stream",
     "text": [
      "0    1\n",
      "1    2\n",
      "2    3\n",
      "3    4\n",
      "4    5\n",
      "5    6\n",
      "dtype: int64\n"
     ]
    }
   ],
   "source": [
    "s=pd.Series([1,2,3,4,5,6,8,9])\n",
    "print(s[0:len(s)-2])"
   ]
  },
  {
   "cell_type": "markdown",
   "id": "d09ee5a5",
   "metadata": {},
   "source": [
    "#### Return all the element of the series except the last element"
   ]
  },
  {
   "cell_type": "code",
   "execution_count": 21,
   "id": "3f92d6ba",
   "metadata": {},
   "outputs": [
    {
     "name": "stdout",
     "output_type": "stream",
     "text": [
      "0    1\n",
      "1    2\n",
      "2    3\n",
      "3    4\n",
      "4    5\n",
      "5    6\n",
      "6    8\n",
      "dtype: int64\n"
     ]
    }
   ],
   "source": [
    "s=pd.Series([1,2,3,4,5,6,8,9])\n",
    "print(s[0:len(s)-1])"
   ]
  },
  {
   "cell_type": "markdown",
   "id": "0327219f",
   "metadata": {},
   "source": [
    "#### Return  the two last elements of the series"
   ]
  },
  {
   "cell_type": "code",
   "execution_count": 22,
   "id": "98c8de64",
   "metadata": {},
   "outputs": [
    {
     "name": "stdout",
     "output_type": "stream",
     "text": [
      "6    8\n",
      "7    9\n",
      "dtype: int64\n"
     ]
    }
   ],
   "source": [
    "s=pd.Series([1,2,3,4,5,6,8,9])\n",
    "print(s[-2:])"
   ]
  },
  {
   "cell_type": "code",
   "execution_count": null,
   "id": "f71e788b",
   "metadata": {},
   "outputs": [],
   "source": []
  }
 ],
 "metadata": {
  "kernelspec": {
   "display_name": "Python 3 (ipykernel)",
   "language": "python",
   "name": "python3"
  },
  "language_info": {
   "codemirror_mode": {
    "name": "ipython",
    "version": 3
   },
   "file_extension": ".py",
   "mimetype": "text/x-python",
   "name": "python",
   "nbconvert_exporter": "python",
   "pygments_lexer": "ipython3",
   "version": "3.9.12"
  }
 },
 "nbformat": 4,
 "nbformat_minor": 5
}
