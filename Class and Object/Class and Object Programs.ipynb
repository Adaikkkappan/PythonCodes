{
 "cells": [
  {
   "cell_type": "markdown",
   "id": "70904f6a",
   "metadata": {},
   "source": [
    "#### 1.write a simple python class named Student and display its type, also display the __dict__ attribute keys and the value of the __module__ attribute of the Student class"
   ]
  },
  {
   "cell_type": "code",
   "execution_count": 7,
   "id": "00fd7256",
   "metadata": {},
   "outputs": [
    {
     "name": "stdout",
     "output_type": "stream",
     "text": [
      "Id:  101 \n",
      "Name:  Janu\n",
      "Display\n",
      "=======\n",
      "<class 'type'>\n",
      "{'__module__': '__main__', '__init__': <function Student.__init__ at 0x000001FC3F3E5E50>, 'showinfo': <function Student.showinfo at 0x000001FC3F3E5C10>, '__dict__': <attribute '__dict__' of 'Student' objects>, '__weakref__': <attribute '__weakref__' of 'Student' objects>, '__doc__': None}\n",
      "__main__\n"
     ]
    }
   ],
   "source": [
    "class Student:\n",
    "    def __init__(self,id,name):\n",
    "        self.id=id\n",
    "        self.name=name\n",
    "        \n",
    "    def showinfo(self):\n",
    "        print(\"Id: \",self.id,\"\\nName: \",self.name)\n",
    "        \n",
    "obj=Student(101,\"Janu\")\n",
    "obj.showinfo()\n",
    "print(\"Display\")\n",
    "print(\"=======\")\n",
    "print(type(Student))\n",
    "print(Student.__dict__)\n",
    "print(Student.__module__)"
   ]
  },
  {
   "cell_type": "markdown",
   "id": "1779158a",
   "metadata": {},
   "source": [
    "#### 2.write a python class to convert an integer to a roman numeral"
   ]
  },
  {
   "cell_type": "code",
   "execution_count": 15,
   "id": "e6d58155",
   "metadata": {},
   "outputs": [
    {
     "name": "stdout",
     "output_type": "stream",
     "text": [
      "c\n"
     ]
    }
   ],
   "source": []
  },
  {
   "cell_type": "markdown",
   "id": "c9f57701",
   "metadata": {},
   "source": [
    "#### 3.write a python class to convert roman numeral "
   ]
  },
  {
   "cell_type": "code",
   "execution_count": null,
   "id": "418d68ed",
   "metadata": {},
   "outputs": [],
   "source": []
  },
  {
   "cell_type": "markdown",
   "id": "8cefbb24",
   "metadata": {},
   "source": [
    "#### 4.write a python class to implement pow(x,n)"
   ]
  },
  {
   "cell_type": "code",
   "execution_count": 22,
   "id": "2a388182",
   "metadata": {},
   "outputs": [
    {
     "name": "stdout",
     "output_type": "stream",
     "text": [
      "16\n"
     ]
    }
   ],
   "source": [
    "class powerclass:      \n",
    "    def power(self,num1,num2):\n",
    "        print(pow(num1,num2))\n",
    "\n",
    "obj=powerclass().power(4,2)"
   ]
  },
  {
   "cell_type": "markdown",
   "id": "97b665ce",
   "metadata": {},
   "source": [
    "#### 5.write a python class to reverse a string word by word"
   ]
  },
  {
   "cell_type": "code",
   "execution_count": 26,
   "id": "1a0f6fdc",
   "metadata": {},
   "outputs": [
    {
     "name": "stdout",
     "output_type": "stream",
     "text": [
      "dlroW olleH\n"
     ]
    }
   ],
   "source": [
    "class reverse:\n",
    "    def __init__(self,string):\n",
    "        self.string=string\n",
    "        \n",
    "    def rev_str(self):\n",
    "        s=self.string\n",
    "        res=''\n",
    "        for i in range(len(s)):\n",
    "            res=s[i]+res\n",
    "        print(res)\n",
    "        \n",
    "x=reverse(\"Hello World\")\n",
    "x.rev_str()"
   ]
  },
  {
   "cell_type": "code",
   "execution_count": null,
   "id": "1c641b8a",
   "metadata": {},
   "outputs": [],
   "source": []
  }
 ],
 "metadata": {
  "kernelspec": {
   "display_name": "Python 3 (ipykernel)",
   "language": "python",
   "name": "python3"
  },
  "language_info": {
   "codemirror_mode": {
    "name": "ipython",
    "version": 3
   },
   "file_extension": ".py",
   "mimetype": "text/x-python",
   "name": "python",
   "nbconvert_exporter": "python",
   "pygments_lexer": "ipython3",
   "version": "3.9.12"
  }
 },
 "nbformat": 4,
 "nbformat_minor": 5
}
